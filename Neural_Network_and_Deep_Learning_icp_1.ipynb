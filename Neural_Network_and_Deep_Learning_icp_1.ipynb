{
  "nbformat": 4,
  "nbformat_minor": 0,
  "metadata": {
    "colab": {
      "provenance": []
    },
    "kernelspec": {
      "name": "python3",
      "display_name": "Python 3"
    },
    "language_info": {
      "name": "python"
    }
  },
  "cells": [
    {
      "cell_type": "code",
      "execution_count": 1,
      "metadata": {
        "colab": {
          "base_uri": "https://localhost:8080/"
        },
        "id": "bChfgaZT5L9a",
        "outputId": "bd52675d-099c-44b6-cdf7-9d8b808ffb6f"
      },
      "outputs": [
        {
          "output_type": "stream",
          "name": "stdout",
          "text": [
            "Enter the string 'Python': python\n",
            "Reversed String: ntyp\n"
          ]
        }
      ],
      "source": [
        "# Input the string \"Python\" as a list of characters from console\n",
        "input_string = list(input(\"Enter the string 'Python': \"))\n",
        "\n",
        "# Delete at least 2 characters\n",
        "if len(input_string) >= 2:\n",
        "    del input_string[3:5]\n",
        "\n",
        "# Reverse the resultant string\n",
        "resultant_string = ''.join(reversed(input_string))\n",
        "\n",
        "# Print the reversed string\n",
        "print(\"Reversed String:\", resultant_string)\n",
        "\n"
      ]
    },
    {
      "cell_type": "code",
      "source": [
        "# Accept a sentence from the user\n",
        "sentence = input(\"Enter a sentence: \")\n",
        "\n",
        "# Replace each occurrence of 'python' with 'pythons'\n",
        "modified_sentence = sentence.replace('python', 'pythons')\n",
        "\n",
        "# Print the modified sentence\n",
        "print(\"Modified Sentence:\", modified_sentence)"
      ],
      "metadata": {
        "colab": {
          "base_uri": "https://localhost:8080/"
        },
        "id": "hbSSTsiP54Iu",
        "outputId": "5eecbe19-8a00-4178-a843-d7b4573a3473"
      },
      "execution_count": 2,
      "outputs": [
        {
          "output_type": "stream",
          "name": "stdout",
          "text": [
            "Enter a sentence: i love playing with python\n",
            "Modified Sentence: i love playing with pythons\n"
          ]
        }
      ]
    },
    {
      "cell_type": "code",
      "source": [
        "class_score = float(input(\"Enter the class score: \"))\n",
        "\n",
        "# Define grading scheme (you can adjust the score ranges as needed)\n",
        "A_score = 90\n",
        "B_score = 80\n",
        "C_score = 70\n",
        "D_score = 60\n",
        "\n",
        "# Use if statements to determine the letter grade\n",
        "if class_score >= A_score:\n",
        "    grade = 'A'\n",
        "elif class_score >= B_score:\n",
        "    grade = 'B'\n",
        "elif class_score >= C_score:\n",
        "    grade = 'C'\n",
        "elif class_score >= D_score:\n",
        "    grade = 'D'\n",
        "else:\n",
        "    grade = 'F'\n",
        "\n",
        "# Print the letter grade\n",
        "print(\"Letter Grade:\", grade)"
      ],
      "metadata": {
        "colab": {
          "base_uri": "https://localhost:8080/"
        },
        "id": "eoxRf7wi6UUg",
        "outputId": "d2c3239c-5a10-4ed2-c960-46a2e91b6af4"
      },
      "execution_count": 3,
      "outputs": [
        {
          "output_type": "stream",
          "name": "stdout",
          "text": [
            "Enter the class score: 90\n",
            "Letter Grade: A\n"
          ]
        }
      ]
    }
  ]
}